{
 "cells": [
  {
   "cell_type": "code",
   "execution_count": 1,
   "metadata": {},
   "outputs": [],
   "source": [
    "import os\n",
    "import pandas as pd\n",
    "import numpy as np\n",
    "import json\n",
    "\n",
    "\n",
    "#pd.set_option('display.max_rows', 500)\n",
    "pd.set_option('display.max_columns', 500)\n",
    "pd.set_option('display.width', 1000)"
   ]
  },
  {
   "attachments": {},
   "cell_type": "markdown",
   "metadata": {},
   "source": [
    "## Overview\n",
    "\n",
    "The Houston Rockets collect a wide range of data including ticket transactions, retail sales, and fan surveys. However, this data comes from various sources with differing formats, making it difficult to truly understand who our fans are and track how they’re interacting with the Houston Rockets.\n",
    "\n",
    "Use the available data sources to create a unified database table (i.e., a single table that our Business Intelligence & Innovation team could leverage to build fan segments and determine their behaviors)."
   ]
  },
  {
   "attachments": {},
   "cell_type": "markdown",
   "metadata": {},
   "source": [
    "**Requirements**\n",
    "\n",
    "Using your programming method of choice, create a unified database table that could be used as the basis for dashboards and reporting on fan segments and their behaviors.\n",
    "\n",
    "At minimum, the database table should include the following:\n",
    "\n",
    "- A unique identifier for each fan as the primary key\n",
    "- Fan identifiers from each data source\n",
    "- Fields containing contact information for each fan (email, phone number, and zip code)\n",
    "\n",
    "The following calculated fields:\n",
    "- Number of ticket transactions\n",
    "- Number of retail transactions\n",
    "- Number of survey responses\n",
    "\n",
    "At least four additional calculated fields. For example:\n",
    "- Average ticket price for each fan\n",
    "- Fan total spend\n",
    "\n",
    "\n",
    "Project is available on Github, or similar SVN service, with a README on how to locally view and/or run your project. If a private repo, which we would encourage, please add @mkamla as a collaborator when your project is ready for review.\n",
    "Timely completion of the project. Preferably no more than 7 days from delivery of project details.\n",
    "\n",
    "**Evaluation Criteria**\n",
    "\n",
    "Aside from adherence to the requirements, below are specific aspects that will be evaluated:\n",
    "\n",
    "- Inclusion of supporting files, documentation and scripts used to generate the unified table\n",
    "- Thoughtful consideration to datapoints that are relevant to a sports, entertainment and/or event business\n",
    "\n",
    "**Bonus Points**\n",
    "Additional consideration will be given to projects that include details about your methodology or approach, insights uncovered, supplemental tables and creativity in incorporating external resources that are additive to the project requirements and may reside outside the scope of this document.\n",
    "\n",
    "The difference between ordinary and extraordinary is a little extra.\n",
    "\n"
   ]
  },
  {
   "attachments": {},
   "cell_type": "markdown",
   "metadata": {},
   "source": [
    "## Acquistion"
   ]
  },
  {
   "cell_type": "code",
   "execution_count": 5,
   "metadata": {},
   "outputs": [
    {
     "name": "stdout",
     "output_type": "stream",
     "text": [
      "JSON - retail data:\n",
      "                                              retail\n",
      "0  {'transaction_id': 1, 'email': 'user18@rockets...\n",
      "1  {'transaction_id': 2, 'email': 'user142@rocket...\n",
      "2  {'transaction_id': 3, 'email': 'user182@rocket...\n",
      "3  {'transaction_id': 4, 'email': 'user492@rocket...\n",
      "4  {'transaction_id': 5, 'email': 'user101@rocket...\n",
      "CSV - survey data:\n",
      "   Submission ID                                          Attribute            Value\n",
      "0              1                                           phone_no     290-551-1299\n",
      "1              1                                           event_id             3220\n",
      "2              1             how_satisfied_were_you_with_this_event                2\n",
      "3              1  how_satisfied_were_you_with_your_retail_experi...                3\n",
      "4              1  how_likely_are_you_to_attend_this_event_in_the...  5 - Very Likely\n",
      "CSV - ticket data :\n",
      "   transaction_id  account_no                email    zip      phone_no  section  row  qty  total_price  event_id     channel\n",
      "0               1  A87144476G  user400@rockets.com  77066  280-379-5220      109    9    1          200      3223         Web\n",
      "1               2  A66578188Z  user141@rockets.com  76673  490-491-8071      101   10    4          800      3221  Box Office\n",
      "2               3  A11689958W   user98@rockets.com  77031  244-805-9413      100   18    8         1600      3237  Box Office\n",
      "3               4  A47432461Z  user213@rockets.com  76136  826-458-9773      400    7    1           50      3240         Web\n",
      "4               5  A80089942I  user472@rockets.com  75559  803-733-6051      414   17    1           25      3215  Box Office\n"
     ]
    }
   ],
   "source": [
    "# Import JSON file\n",
    "json_data = pd.read_json('retail.json', orient='columns')\n",
    "\n",
    "# Import CSV files\n",
    "survey_data = pd.read_csv('surveys.csv')\n",
    "ticket_data = pd.read_csv('tickets.csv')\n",
    "\n",
    "\n",
    "# Print the first few rows of each data frame\n",
    "\n",
    "print(\"JSON - retail data:\")\n",
    "print(json_data.head())\n",
    "\n",
    "print(\"CSV - survey data:\")\n",
    "print(survey_data.head())\n",
    "\n",
    "print(\"CSV - ticket data :\")\n",
    "print(ticket_data.head())"
   ]
  },
  {
   "cell_type": "code",
   "execution_count": 4,
   "metadata": {},
   "outputs": [
    {
     "name": "stdout",
     "output_type": "stream",
     "text": [
      "Info - retail data :\n",
      "<class 'pandas.core.frame.DataFrame'>\n",
      "RangeIndex: 2000 entries, 0 to 1999\n",
      "Data columns (total 1 columns):\n",
      " #   Column  Non-Null Count  Dtype \n",
      "---  ------  --------------  ----- \n",
      " 0   retail  2000 non-null   object\n",
      "dtypes: object(1)\n",
      "memory usage: 15.8+ KB\n",
      "Info - survey data :\n",
      "<class 'pandas.core.frame.DataFrame'>\n",
      "RangeIndex: 12000 entries, 0 to 11999\n",
      "Data columns (total 3 columns):\n",
      " #   Column         Non-Null Count  Dtype \n",
      "---  ------         --------------  ----- \n",
      " 0   Submission ID  12000 non-null  int64 \n",
      " 1   Attribute      12000 non-null  object\n",
      " 2   Value          12000 non-null  object\n",
      "dtypes: int64(1), object(2)\n",
      "memory usage: 281.4+ KB\n",
      "Info - ticket data :\n",
      "<class 'pandas.core.frame.DataFrame'>\n",
      "RangeIndex: 10000 entries, 0 to 9999\n",
      "Data columns (total 11 columns):\n",
      " #   Column          Non-Null Count  Dtype \n",
      "---  ------          --------------  ----- \n",
      " 0   transaction_id  10000 non-null  int64 \n",
      " 1   account_no      10000 non-null  object\n",
      " 2   email           10000 non-null  object\n",
      " 3   zip             10000 non-null  int64 \n",
      " 4   phone_no        10000 non-null  object\n",
      " 5   section         10000 non-null  int64 \n",
      " 6   row             10000 non-null  int64 \n",
      " 7   qty             10000 non-null  int64 \n",
      " 8   total_price     10000 non-null  int64 \n",
      " 9   event_id        10000 non-null  int64 \n",
      " 10  channel         10000 non-null  object\n",
      "dtypes: int64(7), object(4)\n",
      "memory usage: 859.5+ KB\n"
     ]
    }
   ],
   "source": [
    "print(\"Info - retail data :\")\n",
    "json_data.info()\n",
    "\n",
    "print(\"Info - survey data :\")\n",
    "survey_data.info()\n",
    "\n",
    "print(\"Info - ticket data :\")\n",
    "ticket_data.info()"
   ]
  },
  {
   "attachments": {},
   "cell_type": "markdown",
   "metadata": {},
   "source": [
    "**Takeaways**\n",
    "\n",
    "- Retail JSON \n",
    "\n",
    "    - No nulls.\n",
    "    - Currently 2000 rows and 1 column.\n",
    "\n",
    "     **Things to Do**\n",
    "\n",
    "    - Need to convert to Dataframe with the following fields:\n",
    "        - transaction_id, email, account_no , product_type, quantity, unit_price , shipping cost. \n",
    "        - Dataframe will have 2000 rows with 7 columns.\n",
    "        \n",
    "\n",
    "- Ticket data\n",
    "\n",
    "    - No nulls\n",
    "    - Dataframe is 10,000 rows and 11 columns\n",
    "\n",
    "- Survey data\n",
    "\n",
    "    - No nulls\n",
    "    - Need to pivot data on 'Submission ID' index and 'Attribute' being columns. Final shape will be determine after transforming the data table.\n",
    "    - normalize some data fields\n",
    "\n",
    "**MVP**\n",
    "\n",
    "- Master Fan Dataframe\n",
    "\n",
    "    - need Unique ID for each fan as primary key\n",
    "    - ID for each data table \n",
    "    - Contact information for each fan\n",
    "        - email\n",
    "        - phone number\n",
    "        - zip code\n",
    "    - Fields calculating \n",
    "        - Number of ticket transactions\n",
    "        - Number of retail transactions\n",
    "        - Number of surveys completed\n",
    "    - Additional fields (Need 4)\n",
    "        - Avg ticket price per fan\n",
    "        - Fan overall total (ticket + retail)\n",
    "        - Mode of seating (section) attendence (Maybe) per fan\n",
    "        - last additional field to be determine.\n",
    "\n"
   ]
  },
  {
   "attachments": {},
   "cell_type": "markdown",
   "metadata": {},
   "source": [
    "## Prepare the data"
   ]
  },
  {
   "attachments": {},
   "cell_type": "markdown",
   "metadata": {},
   "source": []
  }
 ],
 "metadata": {
  "kernelspec": {
   "display_name": "base",
   "language": "python",
   "name": "python3"
  },
  "language_info": {
   "codemirror_mode": {
    "name": "ipython",
    "version": 3
   },
   "file_extension": ".py",
   "mimetype": "text/x-python",
   "name": "python",
   "nbconvert_exporter": "python",
   "pygments_lexer": "ipython3",
   "version": "3.9.12"
  },
  "orig_nbformat": 4
 },
 "nbformat": 4,
 "nbformat_minor": 2
}
